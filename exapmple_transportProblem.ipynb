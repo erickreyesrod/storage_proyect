{
 "cells": [
  {
   "cell_type": "markdown",
   "id": "040342ed",
   "metadata": {},
   "source": [
    "# Modelo de Programación Lineal para el problema de Transporte\n",
    "## 1. Planteamiento general del problema de transporte\n",
    "\n",
    "$ \\displaystyle{\\text{Min } C = \\sum_{i \\in I} \\sum_{j\\in J} x_{ij} c_{ij}} $ <br>\n",
    "\n",
    "donde:\n",
    "\n",
    "* $x_{ij} = $ número de productos producidos en $i$ enviados a $j$\n",
    "* $c_{ij} = $ costo de envío unitatio de $i$ a $j$\n",
    "* $I = \\{0,1,2 ...\\} = $ conjunto de plantas de producción\n",
    "* $J = \\{0,1,2 ...\\} = $ conjunto de supermercados o plantas receptoras\n",
    "\n",
    "Además, se deben cumplir las siguientes restricciones:\n",
    "1. **Restricción de oferta:** la suma de los productos enviados desde cada planta de producción a todos los supermercados debe ser menor o igual que la capacidad de producción $s_{i}$, es decir,\n",
    "\n",
    "$\\qquad \\displaystyle {\\sum_{j \\in J} x_{ij} \\leq s_i, \\quad \\forall \\quad i \\in I}$\n",
    "\n",
    "2. **Restricción de demanda:** la suma de los productos enviados a cada supermercado por todos los centros de producción debe ser mayor o igual a la demanda  $d_{j}$, es decir,\n",
    "\n",
    "$\\qquad \\displaystyle {\\sum_{i \\in I} x_{ij} \\geq d_j, \\quad \\forall \\quad j \\in J}$\n"
   ]
  },
  {
   "cell_type": "markdown",
   "id": "5ab54440",
   "metadata": {},
   "source": [
    "## 2. Ejemplo\n",
    "Colum es un fabricante de yogur. La compañía tiene instalaciones de producción en Osorno, Valdivia y Puerto Fuy, que pueden producir 10,000 yogurts por semana. Colum distribuye su pedido en sus 3 instalaciones ubicadas en Puerto Montt, Temuco y Villarica. Colum quiere minimizar sus costos de transporte mientras satisface el pedido. Los costos de transporte entre cada instalación, la capacidad de producción y la demanda de cada destinos están en las tablas a continuación.\n",
    "\n",
    "#### Capacidad de Producción por Plantas ($s_{i}$)\n",
    "\n",
    "|    | Osorno | Valcivia | Puerto Fuy|\n",
    "|----| ----| ----| ---- |\n",
    "|$s_i$| 10,000 | 10,000 | 10,000 |\n",
    "\n",
    "#### Demanda por Supermedado ($d_{j}$)\n",
    "\n",
    "|    |Puerto Montt|Temuco|Villarica|\n",
    "|----| ----| ----| ---- |\n",
    "|$d_j$|11,000 |6,300|3,400 |\n",
    "\n",
    "#### Costo de tranporte ($c_{ij}$)\n",
    "\n",
    "|    |Puerto Montt|Temuco|Villarica|\n",
    "|----| ----| ----| ---- |\n",
    "|Osorno|1.04|1.27|1.22|\n",
    "|Valcivia|1.23|1.93|0.6|\n",
    "|Puerto Fuy|1.92|0.94|1.03|"
   ]
  },
  {
   "cell_type": "markdown",
   "id": "ed0ba0b0",
   "metadata": {},
   "source": [
    "## 3. Modelado del probIema\n",
    "### 3.1 Indexado de las variables"
   ]
  },
  {
   "cell_type": "code",
   "execution_count": 61,
   "id": "b64700d4",
   "metadata": {},
   "outputs": [
    {
     "data": {
      "text/plain": [
       "[(0, 0), (0, 1), (0, 2), (1, 0), (1, 1), (1, 2), (2, 0), (2, 1), (2, 2)]"
      ]
     },
     "execution_count": 61,
     "metadata": {},
     "output_type": "execute_result"
    }
   ],
   "source": [
    "plantas = [i for i in range(3)]\n",
    "destinos = [j for j in range(3)]\n",
    "arcos = [(i,j) for i in plantas for j in destinos]\n",
    "\n",
    "arcos"
   ]
  },
  {
   "cell_type": "code",
   "execution_count": 62,
   "id": "0f2262b7",
   "metadata": {},
   "outputs": [],
   "source": [
    "capacidad = {0:10000,1:10000,2:10000}\n",
    "demanda = {0:11000,1:6300,2:7400}\n",
    "costo = {(0, 0):1.04, (0, 1):1.27, (0, 2):1.22, (1, 0):1.23, (1, 1):1.93, (1, 2):0.6, (2, 0):1.92, (2, 1):0.94, (2, 2):1.03}"
   ]
  },
  {
   "cell_type": "markdown",
   "id": "7c3049c0",
   "metadata": {},
   "source": [
    "### 3.2 CPLEX"
   ]
  },
  {
   "cell_type": "code",
   "execution_count": 63,
   "id": "405935d3",
   "metadata": {},
   "outputs": [],
   "source": [
    "from docplex.mp.model import Model"
   ]
  },
  {
   "cell_type": "code",
   "execution_count": 64,
   "id": "e0b777fb",
   "metadata": {},
   "outputs": [],
   "source": [
    "mdl = Model('problema_transporte')"
   ]
  },
  {
   "cell_type": "markdown",
   "id": "5b3331ca",
   "metadata": {},
   "source": [
    "Creación de variables:"
   ]
  },
  {
   "cell_type": "code",
   "execution_count": 65,
   "id": "e029e7df",
   "metadata": {},
   "outputs": [],
   "source": [
    "x = mdl.integer_var_dict(arcos, name = 'x')"
   ]
  },
  {
   "cell_type": "markdown",
   "id": "e94551e2",
   "metadata": {},
   "source": [
    "Función objetivo: $ \\displaystyle{\\text{Min } C = \\sum_{i \\in I} \\sum_{j\\in J} x_{ij} c_{ij}} $ <br>"
   ]
  },
  {
   "cell_type": "code",
   "execution_count": 66,
   "id": "e3fec1f1",
   "metadata": {},
   "outputs": [],
   "source": [
    "mdl.minimize(mdl.sum(x[i]*costo[i] for i in arcos))"
   ]
  },
  {
   "cell_type": "markdown",
   "id": "145cb750",
   "metadata": {},
   "source": [
    "Restricciones:\n",
    "\n",
    "1. **Restricción de oferta:** $\\displaystyle {\\sum_{j \\in J} x_{ij} \\leq s_i, \\quad \\forall \\quad i \\in I}$"
   ]
  },
  {
   "cell_type": "code",
   "execution_count": 67,
   "id": "7e604fd8",
   "metadata": {},
   "outputs": [],
   "source": [
    "for i in plantas:\n",
    "    mdl.add_constraint(mdl.sum(x[i,j] for j in destinos) <= capacidad[i])"
   ]
  },
  {
   "cell_type": "markdown",
   "id": "d6e2df2f",
   "metadata": {},
   "source": [
    "2. **Restricción de demanda:** $\\displaystyle {\\sum_{i \\in I} x_{ij} \\geq d_j, \\quad \\forall \\quad j \\in J}$"
   ]
  },
  {
   "cell_type": "code",
   "execution_count": 68,
   "id": "7c7bab59",
   "metadata": {},
   "outputs": [],
   "source": [
    "for j in destinos:\n",
    "    mdl.add_constraint(mdl.sum(x[i,j] for i in destinos) >= demanda[j])"
   ]
  },
  {
   "cell_type": "markdown",
   "id": "77cad35d",
   "metadata": {},
   "source": [
    "Impresión del modelo de optimización"
   ]
  },
  {
   "cell_type": "code",
   "execution_count": 69,
   "id": "17c6961d",
   "metadata": {},
   "outputs": [
    {
     "name": "stdout",
     "output_type": "stream",
     "text": [
      "\\ This file has been generated by DOcplex\n",
      "\\ ENCODING=ISO-8859-1\n",
      "\\Problem name: problema_transporte\n",
      "\n",
      "Minimize\n",
      " obj: 1.040000000000 x_0_0 + 1.270000000000 x_0_1 + 1.220000000000 x_0_2\n",
      "      + 1.230000000000 x_1_0 + 1.930000000000 x_1_1 + 0.600000000000 x_1_2\n",
      "      + 1.920000000000 x_2_0 + 0.940000000000 x_2_1 + 1.030000000000 x_2_2\n",
      "Subject To\n",
      " c1: x_0_0 + x_0_1 + x_0_2 <= 10000\n",
      " c2: x_1_0 + x_1_1 + x_1_2 <= 10000\n",
      " c3: x_2_0 + x_2_1 + x_2_2 <= 10000\n",
      " c4: x_0_0 + x_1_0 + x_2_0 >= 11000\n",
      " c5: x_0_1 + x_1_1 + x_2_1 >= 6300\n",
      " c6: x_0_2 + x_1_2 + x_2_2 >= 7400\n",
      "\n",
      "Bounds\n",
      "\n",
      "Generals\n",
      " x_0_0 x_0_1 x_0_2 x_1_0 x_1_1 x_1_2 x_2_0 x_2_1 x_2_2\n",
      "End\n",
      "\n"
     ]
    }
   ],
   "source": [
    "print(mdl.export_to_string())"
   ]
  },
  {
   "cell_type": "code",
   "execution_count": 70,
   "id": "5cb2d998",
   "metadata": {},
   "outputs": [
    {
     "name": "stdout",
     "output_type": "stream",
     "text": [
      "Version identifier: 22.1.1.0 | 2022-11-26 | 9160aff4d\n",
      "CPXPARAM_Read_DataCheck                          1\n",
      "Found incumbent of value 30250.000000 after 0.00 sec. (0.00 ticks)\n",
      "Tried aggregator 1 time.\n",
      "Reduced MIP has 6 rows, 9 columns, and 18 nonzeros.\n",
      "Reduced MIP has 0 binaries, 9 generals, 0 SOSs, and 0 indicators.\n",
      "Presolve time = 0.00 sec. (0.01 ticks)\n",
      "Tried aggregator 1 time.\n",
      "Reduced MIP has 6 rows, 9 columns, and 18 nonzeros.\n",
      "Reduced MIP has 0 binaries, 9 generals, 0 SOSs, and 0 indicators.\n",
      "Presolve time = 0.00 sec. (0.01 ticks)\n",
      "MIP emphasis: balance optimality and feasibility.\n",
      "MIP search method: dynamic search.\n",
      "Parallel mode: deterministic, using up to 4 threads.\n",
      "Root relaxation solution time = 0.00 sec. (0.01 ticks)\n",
      "\n",
      "        Nodes                                         Cuts/\n",
      "   Node  Left     Objective  IInf  Best Integer    Best Bound    ItCnt     Gap\n",
      "\n",
      "*     0+    0                        30250.0000        0.0000           100.00%\n",
      "*     0+    0                        30245.7400        0.0000           100.00%\n",
      "*     0     0      integral     0    21992.0000    21992.0000        3    0.00%\n",
      "Elapsed time = 0.03 sec. (0.04 ticks, tree = 0.00 MB, solutions = 3)\n",
      "\n",
      "Root node processing (before b&c):\n",
      "  Real time             =    0.03 sec. (0.04 ticks)\n",
      "Parallel b&c, 4 threads:\n",
      "  Real time             =    0.00 sec. (0.00 ticks)\n",
      "  Sync time (average)   =    0.00 sec.\n",
      "  Wait time (average)   =    0.00 sec.\n",
      "                          ------------\n",
      "Total (root+branch&cut) =    0.03 sec. (0.04 ticks)\n"
     ]
    }
   ],
   "source": [
    "solucion = mdl.solve(log_output = True)"
   ]
  },
  {
   "cell_type": "code",
   "execution_count": 71,
   "id": "8a084b38",
   "metadata": {},
   "outputs": [
    {
     "data": {
      "text/plain": [
       "<JobSolveStatus.OPTIMAL_SOLUTION: 2>"
      ]
     },
     "execution_count": 71,
     "metadata": {},
     "output_type": "execute_result"
    }
   ],
   "source": [
    "mdl.get_solve_status()"
   ]
  },
  {
   "cell_type": "code",
   "execution_count": 72,
   "id": "53e82207",
   "metadata": {},
   "outputs": [
    {
     "name": "stdout",
     "output_type": "stream",
     "text": [
      "solution for: problema_transporte\n",
      "objective: 21992.000\n",
      "status: OPTIMAL_SOLUTION(2)\n",
      "x_0_0 = 10000\n",
      "x_1_0 = 1000\n",
      "x_1_2 = 7400\n",
      "x_2_1 = 6300\n"
     ]
    }
   ],
   "source": [
    "solucion.display()"
   ]
  },
  {
   "cell_type": "code",
   "execution_count": null,
   "id": "b8b6b663",
   "metadata": {},
   "outputs": [],
   "source": []
  }
 ],
 "metadata": {
  "kernelspec": {
   "display_name": "Python 3 (ipykernel)",
   "language": "python",
   "name": "python3"
  },
  "language_info": {
   "codemirror_mode": {
    "name": "ipython",
    "version": 3
   },
   "file_extension": ".py",
   "mimetype": "text/x-python",
   "name": "python",
   "nbconvert_exporter": "python",
   "pygments_lexer": "ipython3",
   "version": "3.9.13"
  }
 },
 "nbformat": 4,
 "nbformat_minor": 5
}
